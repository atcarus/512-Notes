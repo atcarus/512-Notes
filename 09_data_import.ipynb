{
 "cells": [
  {
   "cell_type": "markdown",
   "metadata": {},
   "source": [
    "Import the 🦸🏾‍♀️\"Avengers\"🦹🏻 data from the [FiveThirtyEight data repository on GitHub](https://github.com/fivethirtyeight/data/blob/master/avengers/avengers.csv)."
   ]
  },
  {
   "cell_type": "code",
   "execution_count": 1,
   "metadata": {
    "tags": []
   },
   "outputs": [
    {
     "name": "stderr",
     "output_type": "stream",
     "text": [
      "Warning message:\n",
      "“Failed to locate timezone database”\n",
      "── \u001b[1mAttaching core tidyverse packages\u001b[22m ──────────────────────── tidyverse 2.0.0 ──\n",
      "\u001b[32m✔\u001b[39m \u001b[34mdplyr    \u001b[39m 1.1.3     \u001b[32m✔\u001b[39m \u001b[34mreadr    \u001b[39m 2.1.4\n",
      "\u001b[32m✔\u001b[39m \u001b[34mforcats  \u001b[39m 1.0.0     \u001b[32m✔\u001b[39m \u001b[34mstringr  \u001b[39m 1.5.0\n",
      "\u001b[32m✔\u001b[39m \u001b[34mggplot2  \u001b[39m 3.4.3     \u001b[32m✔\u001b[39m \u001b[34mtibble   \u001b[39m 3.2.1\n",
      "\u001b[32m✔\u001b[39m \u001b[34mlubridate\u001b[39m 1.9.2     \u001b[32m✔\u001b[39m \u001b[34mtidyr    \u001b[39m 1.3.0\n",
      "\u001b[32m✔\u001b[39m \u001b[34mpurrr    \u001b[39m 1.0.2     \n",
      "── \u001b[1mConflicts\u001b[22m ────────────────────────────────────────── tidyverse_conflicts() ──\n",
      "\u001b[31m✖\u001b[39m \u001b[34mdplyr\u001b[39m::\u001b[32mfilter()\u001b[39m masks \u001b[34mstats\u001b[39m::filter()\n",
      "\u001b[31m✖\u001b[39m \u001b[34mdplyr\u001b[39m::\u001b[32mlag()\u001b[39m    masks \u001b[34mstats\u001b[39m::lag()\n",
      "\u001b[36mℹ\u001b[39m Use the conflicted package (\u001b[3m\u001b[34m<http://conflicted.r-lib.org/>\u001b[39m\u001b[23m) to force all conflicts to become errors\n"
     ]
    }
   ],
   "source": [
    "library(tidyverse)"
   ]
  },
  {
   "cell_type": "code",
   "execution_count": 2,
   "metadata": {
    "tags": []
   },
   "outputs": [
    {
     "data": {
      "text/html": [
       "<table class=\"dataframe\">\n",
       "<caption>A data.frame: 6 × 21</caption>\n",
       "<thead>\n",
       "\t<tr><th></th><th scope=col>URL</th><th scope=col>Name.Alias</th><th scope=col>Appearances</th><th scope=col>Current.</th><th scope=col>Gender</th><th scope=col>Probationary.Introl</th><th scope=col>Full.Reserve.Avengers.Intro</th><th scope=col>Year</th><th scope=col>Years.since.joining</th><th scope=col>Honorary</th><th scope=col>⋯</th><th scope=col>Return1</th><th scope=col>Death2</th><th scope=col>Return2</th><th scope=col>Death3</th><th scope=col>Return3</th><th scope=col>Death4</th><th scope=col>Return4</th><th scope=col>Death5</th><th scope=col>Return5</th><th scope=col>Notes</th></tr>\n",
       "\t<tr><th></th><th scope=col>&lt;chr&gt;</th><th scope=col>&lt;chr&gt;</th><th scope=col>&lt;int&gt;</th><th scope=col>&lt;chr&gt;</th><th scope=col>&lt;chr&gt;</th><th scope=col>&lt;chr&gt;</th><th scope=col>&lt;chr&gt;</th><th scope=col>&lt;int&gt;</th><th scope=col>&lt;int&gt;</th><th scope=col>&lt;chr&gt;</th><th scope=col>⋯</th><th scope=col>&lt;chr&gt;</th><th scope=col>&lt;chr&gt;</th><th scope=col>&lt;chr&gt;</th><th scope=col>&lt;chr&gt;</th><th scope=col>&lt;chr&gt;</th><th scope=col>&lt;chr&gt;</th><th scope=col>&lt;chr&gt;</th><th scope=col>&lt;chr&gt;</th><th scope=col>&lt;chr&gt;</th><th scope=col>&lt;chr&gt;</th></tr>\n",
       "</thead>\n",
       "<tbody>\n",
       "\t<tr><th scope=row>1</th><td>http://marvel.wikia.com/Henry_Pym_(Earth-616)          </td><td>Henry Jonathan \"Hank\" Pym  </td><td>1269</td><td>YES</td><td>MALE  </td><td></td><td>Sep-63</td><td>1963</td><td>52</td><td>Full    </td><td>⋯</td><td>NO </td><td>   </td><td>  </td><td></td><td></td><td></td><td></td><td></td><td></td><td>Merged with Ultron in Rage of Ultron Vol. 1. A funeral was held.                                                                                                                </td></tr>\n",
       "\t<tr><th scope=row>2</th><td>http://marvel.wikia.com/Janet_van_Dyne_(Earth-616)     </td><td>Janet van Dyne             </td><td>1165</td><td>YES</td><td>FEMALE</td><td></td><td>Sep-63</td><td>1963</td><td>52</td><td>Full    </td><td>⋯</td><td>YES</td><td>   </td><td>  </td><td></td><td></td><td></td><td></td><td></td><td></td><td>Dies in Secret Invasion V1:I8. Actually was sent tto Microverse later recovered                                                                                                 </td></tr>\n",
       "\t<tr><th scope=row>3</th><td>http://marvel.wikia.com/Anthony_Stark_(Earth-616)      </td><td>Anthony Edward \"Tony\" Stark</td><td>3068</td><td>YES</td><td>MALE  </td><td></td><td>Sep-63</td><td>1963</td><td>52</td><td>Full    </td><td>⋯</td><td>YES</td><td>   </td><td>  </td><td></td><td></td><td></td><td></td><td></td><td></td><td>Death: \"Later while under the influence of Immortus Stark committed a number of horrible acts and was killed.'  This set up young Tony. Franklin Richards later brought him back</td></tr>\n",
       "\t<tr><th scope=row>4</th><td>http://marvel.wikia.com/Robert_Bruce_Banner_(Earth-616)</td><td>Robert Bruce Banner        </td><td>2089</td><td>YES</td><td>MALE  </td><td></td><td>Sep-63</td><td>1963</td><td>52</td><td>Full    </td><td>⋯</td><td>YES</td><td>   </td><td>  </td><td></td><td></td><td></td><td></td><td></td><td></td><td>Dies in Ghosts of the Future arc. However \"he had actually used a hidden Pantheon base to survive\"                                                                              </td></tr>\n",
       "\t<tr><th scope=row>5</th><td>http://marvel.wikia.com/Thor_Odinson_(Earth-616)       </td><td>Thor Odinson               </td><td>2402</td><td>YES</td><td>MALE  </td><td></td><td>Sep-63</td><td>1963</td><td>52</td><td>Full    </td><td>⋯</td><td>YES</td><td>YES</td><td>NO</td><td></td><td></td><td></td><td></td><td></td><td></td><td>Dies in Fear Itself brought back because that's kind of the whole point. Second death in Time Runs Out has not yet returned                                                     </td></tr>\n",
       "\t<tr><th scope=row>6</th><td>http://marvel.wikia.com/Richard_Jones_(Earth-616)      </td><td>Richard Milhouse Jones     </td><td> 612</td><td>YES</td><td>MALE  </td><td></td><td>Sep-63</td><td>1963</td><td>52</td><td>Honorary</td><td>⋯</td><td>   </td><td>   </td><td>  </td><td></td><td></td><td></td><td></td><td></td><td></td><td>NA                                                                                                                                                                              </td></tr>\n",
       "</tbody>\n",
       "</table>\n"
      ],
      "text/latex": [
       "A data.frame: 6 × 21\n",
       "\\begin{tabular}{r|lllllllllllllllllllll}\n",
       "  & URL & Name.Alias & Appearances & Current. & Gender & Probationary.Introl & Full.Reserve.Avengers.Intro & Year & Years.since.joining & Honorary & ⋯ & Return1 & Death2 & Return2 & Death3 & Return3 & Death4 & Return4 & Death5 & Return5 & Notes\\\\\n",
       "  & <chr> & <chr> & <int> & <chr> & <chr> & <chr> & <chr> & <int> & <int> & <chr> & ⋯ & <chr> & <chr> & <chr> & <chr> & <chr> & <chr> & <chr> & <chr> & <chr> & <chr>\\\\\n",
       "\\hline\n",
       "\t1 & http://marvel.wikia.com/Henry\\_Pym\\_(Earth-616)           & Henry Jonathan \"Hank\" Pym   & 1269 & YES & MALE   &  & Sep-63 & 1963 & 52 & Full     & ⋯ & NO  &     &    &  &  &  &  &  &  & Merged with Ultron in Rage of Ultron Vol. 1. A funeral was held.                                                                                                                \\\\\n",
       "\t2 & http://marvel.wikia.com/Janet\\_van\\_Dyne\\_(Earth-616)      & Janet van Dyne              & 1165 & YES & FEMALE &  & Sep-63 & 1963 & 52 & Full     & ⋯ & YES &     &    &  &  &  &  &  &  & Dies in Secret Invasion V1:I8. Actually was sent tto Microverse later recovered                                                                                                 \\\\\n",
       "\t3 & http://marvel.wikia.com/Anthony\\_Stark\\_(Earth-616)       & Anthony Edward \"Tony\" Stark & 3068 & YES & MALE   &  & Sep-63 & 1963 & 52 & Full     & ⋯ & YES &     &    &  &  &  &  &  &  & Death: \"Later while under the influence of Immortus Stark committed a number of horrible acts and was killed.'  This set up young Tony. Franklin Richards later brought him back\\\\\n",
       "\t4 & http://marvel.wikia.com/Robert\\_Bruce\\_Banner\\_(Earth-616) & Robert Bruce Banner         & 2089 & YES & MALE   &  & Sep-63 & 1963 & 52 & Full     & ⋯ & YES &     &    &  &  &  &  &  &  & Dies in Ghosts of the Future arc. However \"he had actually used a hidden Pantheon base to survive\"                                                                              \\\\\n",
       "\t5 & http://marvel.wikia.com/Thor\\_Odinson\\_(Earth-616)        & Thor Odinson                & 2402 & YES & MALE   &  & Sep-63 & 1963 & 52 & Full     & ⋯ & YES & YES & NO &  &  &  &  &  &  & Dies in Fear Itself brought back because that's kind of the whole point. Second death in Time Runs Out has not yet returned                                                     \\\\\n",
       "\t6 & http://marvel.wikia.com/Richard\\_Jones\\_(Earth-616)       & Richard Milhouse Jones      &  612 & YES & MALE   &  & Sep-63 & 1963 & 52 & Honorary & ⋯ &     &     &    &  &  &  &  &  &  & NA                                                                                                                                                                              \\\\\n",
       "\\end{tabular}\n"
      ],
      "text/markdown": [
       "\n",
       "A data.frame: 6 × 21\n",
       "\n",
       "| <!--/--> | URL &lt;chr&gt; | Name.Alias &lt;chr&gt; | Appearances &lt;int&gt; | Current. &lt;chr&gt; | Gender &lt;chr&gt; | Probationary.Introl &lt;chr&gt; | Full.Reserve.Avengers.Intro &lt;chr&gt; | Year &lt;int&gt; | Years.since.joining &lt;int&gt; | Honorary &lt;chr&gt; | ⋯ ⋯ | Return1 &lt;chr&gt; | Death2 &lt;chr&gt; | Return2 &lt;chr&gt; | Death3 &lt;chr&gt; | Return3 &lt;chr&gt; | Death4 &lt;chr&gt; | Return4 &lt;chr&gt; | Death5 &lt;chr&gt; | Return5 &lt;chr&gt; | Notes &lt;chr&gt; |\n",
       "|---|---|---|---|---|---|---|---|---|---|---|---|---|---|---|---|---|---|---|---|---|---|\n",
       "| 1 | http://marvel.wikia.com/Henry_Pym_(Earth-616)           | Henry Jonathan \"Hank\" Pym   | 1269 | YES | MALE   | <!----> | Sep-63 | 1963 | 52 | Full     | ⋯ | NO  | <!----> | <!----> | <!----> | <!----> | <!----> | <!----> | <!----> | <!----> | Merged with Ultron in Rage of Ultron Vol. 1. A funeral was held.                                                                                                                 |\n",
       "| 2 | http://marvel.wikia.com/Janet_van_Dyne_(Earth-616)      | Janet van Dyne              | 1165 | YES | FEMALE | <!----> | Sep-63 | 1963 | 52 | Full     | ⋯ | YES | <!----> | <!----> | <!----> | <!----> | <!----> | <!----> | <!----> | <!----> | Dies in Secret Invasion V1:I8. Actually was sent tto Microverse later recovered                                                                                                  |\n",
       "| 3 | http://marvel.wikia.com/Anthony_Stark_(Earth-616)       | Anthony Edward \"Tony\" Stark | 3068 | YES | MALE   | <!----> | Sep-63 | 1963 | 52 | Full     | ⋯ | YES | <!----> | <!----> | <!----> | <!----> | <!----> | <!----> | <!----> | <!----> | Death: \"Later while under the influence of Immortus Stark committed a number of horrible acts and was killed.'  This set up young Tony. Franklin Richards later brought him back |\n",
       "| 4 | http://marvel.wikia.com/Robert_Bruce_Banner_(Earth-616) | Robert Bruce Banner         | 2089 | YES | MALE   | <!----> | Sep-63 | 1963 | 52 | Full     | ⋯ | YES | <!----> | <!----> | <!----> | <!----> | <!----> | <!----> | <!----> | <!----> | Dies in Ghosts of the Future arc. However \"he had actually used a hidden Pantheon base to survive\"                                                                               |\n",
       "| 5 | http://marvel.wikia.com/Thor_Odinson_(Earth-616)        | Thor Odinson                | 2402 | YES | MALE   | <!----> | Sep-63 | 1963 | 52 | Full     | ⋯ | YES | YES | NO | <!----> | <!----> | <!----> | <!----> | <!----> | <!----> | Dies in Fear Itself brought back because that's kind of the whole point. Second death in Time Runs Out has not yet returned                                                      |\n",
       "| 6 | http://marvel.wikia.com/Richard_Jones_(Earth-616)       | Richard Milhouse Jones      |  612 | YES | MALE   | <!----> | Sep-63 | 1963 | 52 | Honorary | ⋯ | <!----> | <!----> | <!----> | <!----> | <!----> | <!----> | <!----> | <!----> | <!----> | NA                                                                                                                                                                               |\n",
       "\n"
      ],
      "text/plain": [
       "  URL                                                    \n",
       "1 http://marvel.wikia.com/Henry_Pym_(Earth-616)          \n",
       "2 http://marvel.wikia.com/Janet_van_Dyne_(Earth-616)     \n",
       "3 http://marvel.wikia.com/Anthony_Stark_(Earth-616)      \n",
       "4 http://marvel.wikia.com/Robert_Bruce_Banner_(Earth-616)\n",
       "5 http://marvel.wikia.com/Thor_Odinson_(Earth-616)       \n",
       "6 http://marvel.wikia.com/Richard_Jones_(Earth-616)      \n",
       "  Name.Alias                  Appearances Current. Gender Probationary.Introl\n",
       "1 Henry Jonathan \"Hank\" Pym   1269        YES      MALE                      \n",
       "2 Janet van Dyne              1165        YES      FEMALE                    \n",
       "3 Anthony Edward \"Tony\" Stark 3068        YES      MALE                      \n",
       "4 Robert Bruce Banner         2089        YES      MALE                      \n",
       "5 Thor Odinson                2402        YES      MALE                      \n",
       "6 Richard Milhouse Jones       612        YES      MALE                      \n",
       "  Full.Reserve.Avengers.Intro Year Years.since.joining Honorary ⋯ Return1\n",
       "1 Sep-63                      1963 52                  Full     ⋯ NO     \n",
       "2 Sep-63                      1963 52                  Full     ⋯ YES    \n",
       "3 Sep-63                      1963 52                  Full     ⋯ YES    \n",
       "4 Sep-63                      1963 52                  Full     ⋯ YES    \n",
       "5 Sep-63                      1963 52                  Full     ⋯ YES    \n",
       "6 Sep-63                      1963 52                  Honorary ⋯        \n",
       "  Death2 Return2 Death3 Return3 Death4 Return4 Death5 Return5\n",
       "1                                                            \n",
       "2                                                            \n",
       "3                                                            \n",
       "4                                                            \n",
       "5 YES    NO                                                  \n",
       "6                                                            \n",
       "  Notes                                                                                                                                                                           \n",
       "1 Merged with Ultron in Rage of Ultron Vol. 1. A funeral was held.                                                                                                                \n",
       "2 Dies in Secret Invasion V1:I8. Actually was sent tto Microverse later recovered                                                                                                 \n",
       "3 Death: \"Later while under the influence of Immortus Stark committed a number of horrible acts and was killed.'  This set up young Tony. Franklin Richards later brought him back\n",
       "4 Dies in Ghosts of the Future arc. However \"he had actually used a hidden Pantheon base to survive\"                                                                              \n",
       "5 Dies in Fear Itself brought back because that's kind of the whole point. Second death in Time Runs Out has not yet returned                                                     \n",
       "6 NA                                                                                                                                                                              "
      ]
     },
     "metadata": {},
     "output_type": "display_data"
    }
   ],
   "source": [
    "marvel_data=read.csv('https://raw.githubusercontent.com/fivethirtyeight/data/master/avengers/avengers.csv')\n",
    "\n",
    "marvel_data |> head()"
   ]
  },
  {
   "cell_type": "code",
   "execution_count": 9,
   "metadata": {
    "tags": []
   },
   "outputs": [
    {
     "data": {
      "text/html": [
       "<table class=\"dataframe\">\n",
       "<caption>A data.frame: 6 × 2</caption>\n",
       "<thead>\n",
       "\t<tr><th></th><th scope=col>Name.Alias</th><th scope=col>Appearances</th></tr>\n",
       "\t<tr><th></th><th scope=col>&lt;chr&gt;</th><th scope=col>&lt;int&gt;</th></tr>\n",
       "</thead>\n",
       "<tbody>\n",
       "\t<tr><th scope=row>1</th><td>Moira Brandon</td><td>2</td></tr>\n",
       "\t<tr><th scope=row>2</th><td>Fiona        </td><td>2</td></tr>\n",
       "\t<tr><th scope=row>3</th><td>Doug Taggert </td><td>3</td></tr>\n",
       "\t<tr><th scope=row>4</th><td>Gene Lorrene </td><td>4</td></tr>\n",
       "\t<tr><th scope=row>5</th><td>Dennis Sykes </td><td>6</td></tr>\n",
       "\t<tr><th scope=row>6</th><td>             </td><td>7</td></tr>\n",
       "</tbody>\n",
       "</table>\n"
      ],
      "text/latex": [
       "A data.frame: 6 × 2\n",
       "\\begin{tabular}{r|ll}\n",
       "  & Name.Alias & Appearances\\\\\n",
       "  & <chr> & <int>\\\\\n",
       "\\hline\n",
       "\t1 & Moira Brandon & 2\\\\\n",
       "\t2 & Fiona         & 2\\\\\n",
       "\t3 & Doug Taggert  & 3\\\\\n",
       "\t4 & Gene Lorrene  & 4\\\\\n",
       "\t5 & Dennis Sykes  & 6\\\\\n",
       "\t6 &               & 7\\\\\n",
       "\\end{tabular}\n"
      ],
      "text/markdown": [
       "\n",
       "A data.frame: 6 × 2\n",
       "\n",
       "| <!--/--> | Name.Alias &lt;chr&gt; | Appearances &lt;int&gt; |\n",
       "|---|---|---|\n",
       "| 1 | Moira Brandon | 2 |\n",
       "| 2 | Fiona         | 2 |\n",
       "| 3 | Doug Taggert  | 3 |\n",
       "| 4 | Gene Lorrene  | 4 |\n",
       "| 5 | Dennis Sykes  | 6 |\n",
       "| 6 | <!----> | 7 |\n",
       "\n"
      ],
      "text/plain": [
       "  Name.Alias    Appearances\n",
       "1 Moira Brandon 2          \n",
       "2 Fiona         2          \n",
       "3 Doug Taggert  3          \n",
       "4 Gene Lorrene  4          \n",
       "5 Dennis Sykes  6          \n",
       "6               7          "
      ]
     },
     "metadata": {},
     "output_type": "display_data"
    }
   ],
   "source": [
    "appear_data=marvel_data|>\n",
    "    select(Name.Alias,Appearances)|>\n",
    "    arrange(Appearances)\n",
    "\n",
    "appear_data |> head()"
   ]
  },
  {
   "cell_type": "code",
   "execution_count": 11,
   "metadata": {
    "tags": []
   },
   "outputs": [
    {
     "data": {
      "image/png": "[encoded data removed]",
      "text/plain": [
       "plot without title"
      ]
     },
     "metadata": {
      "image/png": {
       "height": 420,
       "width": 420
      }
     },
     "output_type": "display_data"
    }
   ],
   "source": [
    "graph_data=appear_data|>\n",
    "    mutate(ecdf_y=row_number()/n())\n",
    "\n",
    "p=ggplot(graph_data,aes(x=Appearances,y=ecdf_y))+\n",
    "    geom_point()+\n",
    "    geom_line()\n",
    "\n",
    "p"
   ]
  },
  {
   "cell_type": "markdown",
   "metadata": {},
   "source": [
    "Make an ECDF plot 📊 of `Appearances`."
   ]
  },
  {
   "cell_type": "markdown",
   "metadata": {},
   "source": [
    "(❗️Hint: combine `arrange`, `mutate` and `row_number`/`rank` to produce a new column to encode with y-position.)"
   ]
  },
  {
   "cell_type": "code",
   "execution_count": null,
   "metadata": {},
   "outputs": [],
   "source": []
  }
 ],
 "metadata": {
  "kernelspec": {
   "display_name": "bios512:R",
   "language": "R",
   "name": "conda-env-bios512-r"
  },
  "language_info": {
   "codemirror_mode": "r",
   "file_extension": ".r",
   "mimetype": "text/x-r-source",
   "name": "R",
   "pygments_lexer": "r",
   "version": "4.3.1"
  }
 },
 "nbformat": 4,
 "nbformat_minor": 4
}
